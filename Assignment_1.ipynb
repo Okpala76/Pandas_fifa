{
 "cells": [
  {
   "cell_type": "code",
   "execution_count": null,
   "metadata": {},
   "outputs": [],
   "source": [
    "import pandas as pd\n",
    "\n",
    "# input CSV file\n",
    "\n",
    "df = pd.read_csv(\"fifa21_raw_data.csv\")\n",
    "\n",
    "print(df.head())"
   ]
  },
  {
   "cell_type": "code",
   "execution_count": null,
   "metadata": {},
   "outputs": [],
   "source": [
    "## Convert Height and weight to integer format or type\n",
    "\n",
    "df[\"Height\"] = df[\"Height\"].astype(int)\n",
    "df[\"Weight\"] = df[\"Weight\"].str.replace(\"lbs\",\"\").astype(int)"
   ]
  },
  {
   "cell_type": "code",
   "execution_count": null,
   "metadata": {},
   "outputs": [],
   "source": []
  },
  {
   "cell_type": "code",
   "execution_count": null,
   "metadata": {},
   "outputs": [],
   "source": []
  },
  {
   "cell_type": "code",
   "execution_count": null,
   "metadata": {},
   "outputs": [],
   "source": []
  },
  {
   "cell_type": "code",
   "execution_count": null,
   "metadata": {},
   "outputs": [],
   "source": []
  },
  {
   "cell_type": "code",
   "execution_count": 59,
   "metadata": {},
   "outputs": [
    {
     "name": "stdout",
     "output_type": "stream",
     "text": [
      "['https://cdn.sofifa.com/players/200/389/21_60.png', 'Jan Oblak', 'http://sofifa.com/player/200389/jan-oblak/210005/', 'Slovenia', 'GK', 'J. Oblak', 27, 91, 93, '\\n\\n\\n\\nAtlético Madrid\\n2014 ~ 2023\\n\\n', 200389, '6\\'2\"', '192lbs', 'Right', 91, 'GK', 2, 'Jul 16, 2014', nan, '€75M', '€125K', '€159.4M', 95, 13, 11, 15, 43, 13, 109, 12, 13, 14, 40, 30, 307, 43, 60, 67, 88, 49, 268, 59, 78, 41, 78, 12, 140, 34, 19, 11, 65, 11, 68, 57, 27, 12, 18, 437, 87, 92, 78, 90, 90, 1413, 489, '3 ★', '1★', 'Medium', 'Medium', '3 ★', 87, 92, 78, 90, 52, 90, '\\n86']\n"
     ]
    },
    {
     "name": "stderr",
     "output_type": "stream",
     "text": [
      "C:\\Users\\HP\\AppData\\Local\\Temp\\ipykernel_20824\\91052186.py:5: DtypeWarning: Columns (76) have mixed types. Specify dtype option on import or set low_memory=False.\n",
      "  df = pd.read_csv(\"fifa21_raw_data.csv\")\n"
     ]
    }
   ],
   "source": [
    "import pandas as pd\n",
    "from tabulate import tabulate\n",
    "\n",
    "# Sample DataFrame\n",
    "df = pd.read_csv(\"fifa21_raw_data.csv\")\n",
    "\n",
    "#print(df.head())\n",
    "print(df.loc[2].tolist())\n",
    "\n",
    "# Print table\n",
    "\n",
    "#print(tabulate(df.head(), headers='keys', tablefmt='pretty'))"
   ]
  },
  {
   "cell_type": "code",
   "execution_count": 54,
   "metadata": {},
   "outputs": [
    {
     "name": "stdout",
     "output_type": "stream",
     "text": [
      "+---+--------------------------------------------------+------------------------------+--------------------------------------------------------------------+-------------+-----------+-------------------+-----+------+-----+---------------------+--------+--------+--------+-------+-----+-----+--------+--------------+---------------+--------+-------+----------------+-----------+----------+-----------+------------------+---------------+---------+-------+-----------+-------+-------------+--------------+--------------+----------+--------------+--------------+---------+-----------+---------+-------+------------+---------+---------+----------+------------+-----------+------------+---------------+-------------+--------+-----------+-----------+-----------+---------+-----------------+----------------+-------------+-----------+-------------+------------+----------------+-------------+-------------+------------+-----+----+--------+--------+-----+-----+-----+-----+-----+-----+-----+------+\n",
      "|   |                     photoUrl                     |           LongName           |                             playerUrl                              | Nationality | Positions |       Name        | Age | ↓OVA | POT |   Team & Contract   |   ID   | Height | Weight | foot  | BOV | BP  | Growth |    Joined    | Loan Date End | Value  | Wage  | Release Clause | Attacking | Crossing | Finishing | Heading Accuracy | Short Passing | Volleys | Skill | Dribbling | Curve | FK Accuracy | Long Passing | Ball Control | Movement | Acceleration | Sprint Speed | Agility | Reactions | Balance | Power | Shot Power | Jumping | Stamina | Strength | Long Shots | Mentality | Aggression | Interceptions | Positioning | Vision | Penalties | Composure | Defending | Marking | Standing Tackle | Sliding Tackle | Goalkeeping | GK Diving | GK Handling | GK Kicking | GK Positioning | GK Reflexes | Total Stats | Base Stats | W/F | SM |  A/W   |  D/W   | IR  | PAC | SHO | PAS | DRI | DEF | PHY | Hits |\n",
      "+---+--------------------------------------------------+------------------------------+--------------------------------------------------------------------+-------------+-----------+-------------------+-----+------+-----+---------------------+--------+--------+--------+-------+-----+-----+--------+--------------+---------------+--------+-------+----------------+-----------+----------+-----------+------------------+---------------+---------+-------+-----------+-------+-------------+--------------+--------------+----------+--------------+--------------+---------+-----------+---------+-------+------------+---------+---------+----------+------------+-----------+------------+---------------+-------------+--------+-----------+-----------+-----------+---------+-----------------+----------------+-------------+-----------+-------------+------------+----------------+-------------+-------------+------------+-----+----+--------+--------+-----+-----+-----+-----+-----+-----+-----+------+\n",
      "| 0 | https://cdn.sofifa.com/players/158/023/21_60.png |         Lionel Messi         |        http://sofifa.com/player/158023/lionel-messi/210005/        |  Argentina  | RW ST CF  |     L. Messi      | 33  |  93  | 93  |    FC Barcelona     | 158023 |  5'7\"  | 159lbs | Left  | 93  | RW  |   0    | Jul 1, 2004  |      nan      | €67.5M | €560K |    €138.4M     |    429    |    85    |    95     |        70        |      91       |   88    |  470  |    96     |  93   |     94      |      91      |      96      |   451    |      91      |      80      |   91    |    94     |   95    |  389  |     86     |   68    |   72    |    69    |     94     |    347    |     44     |      40       |     93      |   95   |    75     |    96     |    91     |   32    |       35        |       24       |     54      |     6     |     11      |     15     |       14       |      8      |    2231     |    466     | 4 ★ | 4★ | Medium |  Low   | 5 ★ | 85  | 92  | 91  | 95  | 38  | 65  | 372  |\n",
      "|   |                                                  |                              |                                                                    |             |           |                   |     |      |     |     2004 ~ 2021     |        |        |        |       |     |     |        |              |               |        |       |                |           |          |           |                  |               |         |       |           |       |             |              |              |          |              |              |         |           |         |       |            |         |         |          |            |           |            |               |             |        |           |           |           |         |                 |                |             |           |             |            |                |             |             |            |     |    |        |        |     |     |     |     |     |     |     |      |\n",
      "| 1 | https://cdn.sofifa.com/players/020/801/21_60.png | C. Ronaldo dos Santos Aveiro | http://sofifa.com/player/20801/c-ronaldo-dos-santos-aveiro/210005/ |  Portugal   |   ST LW   | Cristiano Ronaldo | 35  |  92  | 92  |      Juventus       | 20801  |  6'2\"  | 183lbs | Right | 92  | ST  |   0    | Jul 10, 2018 |      nan      |  €46M  | €220K |     €75.9M     |    437    |    84    |    95     |        90        |      82       |   86    |  414  |    88     |  81   |     76      |      77      |      92      |   431    |      87      |      91      |   87    |    95     |   71    |  444  |     94     |   95    |   84    |    78    |     93     |    353    |     63     |      29       |     95      |   82   |    84     |    95     |    84     |   28    |       32        |       24       |     58      |     7     |     11      |     15     |       14       |     11      |    2221     |    464     | 4 ★ | 5★ |  High  |  Low   | 5 ★ | 89  | 93  | 81  | 89  | 35  | 77  | 344  |\n",
      "|   |                                                  |                              |                                                                    |             |           |                   |     |      |     |     2018 ~ 2022     |        |        |        |       |     |     |        |              |               |        |       |                |           |          |           |                  |               |         |       |           |       |             |              |              |          |              |              |         |           |         |       |            |         |         |          |            |           |            |               |             |        |           |           |           |         |                 |                |             |           |             |            |                |             |             |            |     |    |        |        |     |     |     |     |     |     |     |      |\n",
      "| 2 | https://cdn.sofifa.com/players/200/389/21_60.png |          Jan Oblak           |         http://sofifa.com/player/200389/jan-oblak/210005/          |  Slovenia   |    GK     |     J. Oblak      | 27  |  91  | 93  |   Atlético Madrid   | 200389 |  6'2\"  | 192lbs | Right | 91  | GK  |   2    | Jul 16, 2014 |      nan      |  €75M  | €125K |    €159.4M     |    95     |    13    |    11     |        15        |      43       |   13    |  109  |    12     |  13   |     14      |      40      |      30      |   307    |      43      |      60      |   67    |    88     |   49    |  268  |     59     |   78    |   41    |    78    |     12     |    140    |     34     |      19       |     11      |   65   |    11     |    68     |    57     |   27    |       12        |       18       |     437     |    87     |     92      |     78     |       90       |     90      |    1413     |    489     | 3 ★ | 1★ | Medium | Medium | 3 ★ | 87  | 92  | 78  | 90  | 52  | 90  |  86  |\n",
      "|   |                                                  |                              |                                                                    |             |           |                   |     |      |     |     2014 ~ 2023     |        |        |        |       |     |     |        |              |               |        |       |                |           |          |           |                  |               |         |       |           |       |             |              |              |          |              |              |         |           |         |       |            |         |         |          |            |           |            |               |             |        |           |           |           |         |                 |                |             |           |             |            |                |             |             |            |     |    |        |        |     |     |     |     |     |     |     |      |\n",
      "| 3 | https://cdn.sofifa.com/players/192/985/21_60.png |       Kevin De Bruyne        |      http://sofifa.com/player/192985/kevin-de-bruyne/210005/       |   Belgium   |  CAM CM   |   K. De Bruyne    | 29  |  91  | 91  |   Manchester City   | 192985 | 5'11\"  | 154lbs | Right | 91  | CAM |   0    | Aug 30, 2015 |      nan      |  €87M  | €370K |     €161M      |    407    |    94    |    82     |        55        |      94       |   82    |  441  |    88     |  85   |     83      |      93      |      92      |   398    |      77      |      76      |   78    |    91     |   76    |  408  |     91     |   63    |   89    |    74    |     91     |    408    |     76     |      66       |     88      |   94   |    84     |    91     |    186    |   68    |       65        |       53       |     56      |    15     |     13      |     5      |       10       |     13      |    2304     |    485     | 5 ★ | 4★ |  High  |  High  | 4 ★ | 76  | 86  | 93  | 88  | 64  | 78  | 163  |\n",
      "|   |                                                  |                              |                                                                    |             |           |                   |     |      |     |     2015 ~ 2023     |        |        |        |       |     |     |        |              |               |        |       |                |           |          |           |                  |               |         |       |           |       |             |              |              |          |              |              |         |           |         |       |            |         |         |          |            |           |            |               |             |        |           |           |           |         |                 |                |             |           |             |            |                |             |             |            |     |    |        |        |     |     |     |     |     |     |     |      |\n",
      "| 4 | https://cdn.sofifa.com/players/190/871/21_60.png |  Neymar da Silva Santos Jr.  | http://sofifa.com/player/190871/neymar-da-silva-santos-jr/210005/  |   Brazil    |  LW CAM   |     Neymar Jr     | 28  |  91  | 91  | Paris Saint-Germain | 190871 |  5'9\"  | 150lbs | Right | 91  | LW  |   0    | Aug 3, 2017  |      nan      |  €90M  | €270K |    €166.5M     |    408    |    85    |    87     |        62        |      87       |   87    |  448  |    95     |  88   |     89      |      81      |      95      |   453    |      94      |      89      |   96    |    91     |   83    |  357  |     80     |   62    |   81    |    50    |     84     |    356    |     51     |      36       |     87      |   90   |    92     |    93     |    94     |   35    |       30        |       29       |     59      |     9     |      9      |     15     |       15       |     11      |    2175     |    451     | 5 ★ | 5★ |  High  | Medium | 5 ★ | 91  | 85  | 86  | 94  | 36  | 59  | 273  |\n",
      "|   |                                                  |                              |                                                                    |             |           |                   |     |      |     |     2017 ~ 2022     |        |        |        |       |     |     |        |              |               |        |       |                |           |          |           |                  |               |         |       |           |       |             |              |              |          |              |              |         |           |         |       |            |         |         |          |            |           |            |               |             |        |           |           |           |         |                 |                |             |           |             |            |                |             |             |            |     |    |        |        |     |     |     |     |     |     |     |      |\n",
      "+---+--------------------------------------------------+------------------------------+--------------------------------------------------------------------+-------------+-----------+-------------------+-----+------+-----+---------------------+--------+--------+--------+-------+-----+-----+--------+--------------+---------------+--------+-------+----------------+-----------+----------+-----------+------------------+---------------+---------+-------+-----------+-------+-------------+--------------+--------------+----------+--------------+--------------+---------+-----------+---------+-------+------------+---------+---------+----------+------------+-----------+------------+---------------+-------------+--------+-----------+-----------+-----------+---------+-----------------+----------------+-------------+-----------+-------------+------------+----------------+-------------+-------------+------------+-----+----+--------+--------+-----+-----+-----+-----+-----+-----+-----+------+\n"
     ]
    },
    {
     "name": "stderr",
     "output_type": "stream",
     "text": [
      "C:\\Users\\HP\\AppData\\Local\\Temp\\ipykernel_20824\\367475683.py:5: DtypeWarning: Columns (76) have mixed types. Specify dtype option on import or set low_memory=False.\n",
      "  df = pd.read_csv(\"fifa21_raw_data.csv\")\n"
     ]
    }
   ],
   "source": [
    "import pandas as pd\n",
    "from tabulate import tabulate\n",
    "\n",
    "# Sample DataFrame\n",
    "df = pd.read_csv(\"fifa21_raw_data.csv\")\n",
    "\n",
    "##print(df.head())\n",
    "\n",
    "\n",
    "\n",
    "# Print table\n",
    "print(tabulate(df.head(), headers='keys', tablefmt='pretty'))"
   ]
  },
  {
   "cell_type": "code",
   "execution_count": null,
   "metadata": {},
   "outputs": [],
   "source": [
    "x"
   ]
  }
 ],
 "metadata": {
  "kernelspec": {
   "display_name": "base",
   "language": "python",
   "name": "python3"
  },
  "language_info": {
   "codemirror_mode": {
    "name": "ipython",
    "version": 3
   },
   "file_extension": ".py",
   "mimetype": "text/x-python",
   "name": "python",
   "nbconvert_exporter": "python",
   "pygments_lexer": "ipython3",
   "version": "3.10.9"
  }
 },
 "nbformat": 4,
 "nbformat_minor": 2
}
