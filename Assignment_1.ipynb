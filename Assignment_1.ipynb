{
 "cells": [
  {
   "cell_type": "code",
   "execution_count": 126,
   "metadata": {},
   "outputs": [
    {
     "name": "stderr",
     "output_type": "stream",
     "text": [
      "C:\\Users\\HP\\AppData\\Local\\Temp\\ipykernel_20824\\1399383333.py:6: DtypeWarning: Columns (76) have mixed types. Specify dtype option on import or set low_memory=False.\n",
      "  df = pd.read_csv(\"fifa21_raw_data.csv\")\n"
     ]
    }
   ],
   "source": [
    "import pandas as pd\n",
    "from datetime import datetime\n",
    "import re\n",
    "# input CSV file\n",
    "\n",
    "df = pd.read_csv(\"fifa21_raw_data.csv\")\n",
    "\n",
    "#print(df.head())"
   ]
  },
  {
   "cell_type": "code",
   "execution_count": null,
   "metadata": {},
   "outputs": [],
   "source": [
    "## Convert Height and weight to integer format or type\n",
    "\n",
    "df[\"Height\"] = df[\"Height\"].astype(int)\n",
    "df[\"Weight\"] = df[\"Weight\"].str.replace(\"lbs\",\"\").astype(int)"
   ]
  },
  {
   "cell_type": "code",
   "execution_count": null,
   "metadata": {},
   "outputs": [],
   "source": [
    "#df[\"Team & Contract\"] = df[\"Team & Contract\"].astype(str)\n",
    "\n",
    "#df[\"Team & Contract\"] = df[\"Team & Contract\"].str.slice(start=4)\n",
    "\n",
    "#x = df[\"Team & Contract\"].str.slice(stop=-2)\n",
    "\n",
    "\n",
    "df[\"Team & Contract\"] = df[\"Team & Contract\"].astype(str).str[4:-2]\n",
    "\n",
    "df[\"Hits\"] = df[\"Hits\"].astype(str).str[1:]\n",
    "\n",
    "print(df[\"Hits\"])\n",
    "\n",
    "\n"
   ]
  },
  {
   "cell_type": "code",
   "execution_count": null,
   "metadata": {},
   "outputs": [],
   "source": [
    "\n",
    "# Step 1: Convert the 'joined' column to datetime format\n",
    "df['Joined'] = pd.to_datetime(df['Joined'], format='%b %d, %Y')\n",
    "\n",
    "# Step 2: Calculate the duration in years\n",
    "current_date = datetime.now()\n",
    "df['years_in_team'] = (current_date - df['Joined']).dt.days / 365.25\n",
    "\n",
    "# Step 3: Filter players who have been in the team for more than 10 years\n",
    "long_term_players = df[df['years_in_team'] > 10]\n",
    "\n",
    "print(long_term_players[\"LongName\"])\n",
    "\n"
   ]
  },
  {
   "cell_type": "code",
   "execution_count": 134,
   "metadata": {},
   "outputs": [
    {
     "ename": "AttributeError",
     "evalue": "Can only use .str accessor with string values!",
     "output_type": "error",
     "traceback": [
      "\u001b[1;31m---------------------------------------------------------------------------\u001b[0m",
      "\u001b[1;31mAttributeError\u001b[0m                            Traceback (most recent call last)",
      "Cell \u001b[1;32mIn[134], line 1\u001b[0m\n\u001b[1;32m----> 1\u001b[0m df[\u001b[38;5;124m\"\u001b[39m\u001b[38;5;124mValue\u001b[39m\u001b[38;5;124m\"\u001b[39m] \u001b[38;5;241m=\u001b[39m \u001b[43mdf\u001b[49m\u001b[43m[\u001b[49m\u001b[38;5;124;43m\"\u001b[39;49m\u001b[38;5;124;43mValue\u001b[39;49m\u001b[38;5;124;43m\"\u001b[39;49m\u001b[43m]\u001b[49m\u001b[38;5;241;43m.\u001b[39;49m\u001b[43mstr\u001b[49m\u001b[38;5;241m.\u001b[39mreplace(\u001b[38;5;124mr\u001b[39m\u001b[38;5;124m\"\u001b[39m\u001b[38;5;124mK|M\u001b[39m\u001b[38;5;124m\"\u001b[39m,\u001b[38;5;124m\"\u001b[39m\u001b[38;5;124m000\u001b[39m\u001b[38;5;124m\"\u001b[39m)\n\u001b[0;32m      3\u001b[0m \u001b[38;5;28mprint\u001b[39m(df[\u001b[38;5;124m\"\u001b[39m\u001b[38;5;124mValue\u001b[39m\u001b[38;5;124m\"\u001b[39m])\n",
      "File \u001b[1;32mc:\\Users\\HP\\anaconda3\\lib\\site-packages\\pandas\\core\\generic.py:5902\u001b[0m, in \u001b[0;36mNDFrame.__getattr__\u001b[1;34m(self, name)\u001b[0m\n\u001b[0;32m   5895\u001b[0m \u001b[38;5;28;01mif\u001b[39;00m (\n\u001b[0;32m   5896\u001b[0m     name \u001b[38;5;129;01mnot\u001b[39;00m \u001b[38;5;129;01min\u001b[39;00m \u001b[38;5;28mself\u001b[39m\u001b[38;5;241m.\u001b[39m_internal_names_set\n\u001b[0;32m   5897\u001b[0m     \u001b[38;5;129;01mand\u001b[39;00m name \u001b[38;5;129;01mnot\u001b[39;00m \u001b[38;5;129;01min\u001b[39;00m \u001b[38;5;28mself\u001b[39m\u001b[38;5;241m.\u001b[39m_metadata\n\u001b[0;32m   5898\u001b[0m     \u001b[38;5;129;01mand\u001b[39;00m name \u001b[38;5;129;01mnot\u001b[39;00m \u001b[38;5;129;01min\u001b[39;00m \u001b[38;5;28mself\u001b[39m\u001b[38;5;241m.\u001b[39m_accessors\n\u001b[0;32m   5899\u001b[0m     \u001b[38;5;129;01mand\u001b[39;00m \u001b[38;5;28mself\u001b[39m\u001b[38;5;241m.\u001b[39m_info_axis\u001b[38;5;241m.\u001b[39m_can_hold_identifiers_and_holds_name(name)\n\u001b[0;32m   5900\u001b[0m ):\n\u001b[0;32m   5901\u001b[0m     \u001b[38;5;28;01mreturn\u001b[39;00m \u001b[38;5;28mself\u001b[39m[name]\n\u001b[1;32m-> 5902\u001b[0m \u001b[38;5;28;01mreturn\u001b[39;00m \u001b[38;5;28;43mobject\u001b[39;49m\u001b[38;5;241;43m.\u001b[39;49m\u001b[38;5;21;43m__getattribute__\u001b[39;49m\u001b[43m(\u001b[49m\u001b[38;5;28;43mself\u001b[39;49m\u001b[43m,\u001b[49m\u001b[43m \u001b[49m\u001b[43mname\u001b[49m\u001b[43m)\u001b[49m\n",
      "File \u001b[1;32mc:\\Users\\HP\\anaconda3\\lib\\site-packages\\pandas\\core\\accessor.py:182\u001b[0m, in \u001b[0;36mCachedAccessor.__get__\u001b[1;34m(self, obj, cls)\u001b[0m\n\u001b[0;32m    179\u001b[0m \u001b[38;5;28;01mif\u001b[39;00m obj \u001b[38;5;129;01mis\u001b[39;00m \u001b[38;5;28;01mNone\u001b[39;00m:\n\u001b[0;32m    180\u001b[0m     \u001b[38;5;66;03m# we're accessing the attribute of the class, i.e., Dataset.geo\u001b[39;00m\n\u001b[0;32m    181\u001b[0m     \u001b[38;5;28;01mreturn\u001b[39;00m \u001b[38;5;28mself\u001b[39m\u001b[38;5;241m.\u001b[39m_accessor\n\u001b[1;32m--> 182\u001b[0m accessor_obj \u001b[38;5;241m=\u001b[39m \u001b[38;5;28;43mself\u001b[39;49m\u001b[38;5;241;43m.\u001b[39;49m\u001b[43m_accessor\u001b[49m\u001b[43m(\u001b[49m\u001b[43mobj\u001b[49m\u001b[43m)\u001b[49m\n\u001b[0;32m    183\u001b[0m \u001b[38;5;66;03m# Replace the property with the accessor object. Inspired by:\u001b[39;00m\n\u001b[0;32m    184\u001b[0m \u001b[38;5;66;03m# https://www.pydanny.com/cached-property.html\u001b[39;00m\n\u001b[0;32m    185\u001b[0m \u001b[38;5;66;03m# We need to use object.__setattr__ because we overwrite __setattr__ on\u001b[39;00m\n\u001b[0;32m    186\u001b[0m \u001b[38;5;66;03m# NDFrame\u001b[39;00m\n\u001b[0;32m    187\u001b[0m \u001b[38;5;28mobject\u001b[39m\u001b[38;5;241m.\u001b[39m\u001b[38;5;21m__setattr__\u001b[39m(obj, \u001b[38;5;28mself\u001b[39m\u001b[38;5;241m.\u001b[39m_name, accessor_obj)\n",
      "File \u001b[1;32mc:\\Users\\HP\\anaconda3\\lib\\site-packages\\pandas\\core\\strings\\accessor.py:181\u001b[0m, in \u001b[0;36mStringMethods.__init__\u001b[1;34m(self, data)\u001b[0m\n\u001b[0;32m    178\u001b[0m \u001b[38;5;28;01mdef\u001b[39;00m \u001b[38;5;21m__init__\u001b[39m(\u001b[38;5;28mself\u001b[39m, data) \u001b[38;5;241m-\u001b[39m\u001b[38;5;241m>\u001b[39m \u001b[38;5;28;01mNone\u001b[39;00m:\n\u001b[0;32m    179\u001b[0m     \u001b[38;5;28;01mfrom\u001b[39;00m \u001b[38;5;21;01mpandas\u001b[39;00m\u001b[38;5;21;01m.\u001b[39;00m\u001b[38;5;21;01mcore\u001b[39;00m\u001b[38;5;21;01m.\u001b[39;00m\u001b[38;5;21;01marrays\u001b[39;00m\u001b[38;5;21;01m.\u001b[39;00m\u001b[38;5;21;01mstring_\u001b[39;00m \u001b[38;5;28;01mimport\u001b[39;00m StringDtype\n\u001b[1;32m--> 181\u001b[0m     \u001b[38;5;28mself\u001b[39m\u001b[38;5;241m.\u001b[39m_inferred_dtype \u001b[38;5;241m=\u001b[39m \u001b[38;5;28;43mself\u001b[39;49m\u001b[38;5;241;43m.\u001b[39;49m\u001b[43m_validate\u001b[49m\u001b[43m(\u001b[49m\u001b[43mdata\u001b[49m\u001b[43m)\u001b[49m\n\u001b[0;32m    182\u001b[0m     \u001b[38;5;28mself\u001b[39m\u001b[38;5;241m.\u001b[39m_is_categorical \u001b[38;5;241m=\u001b[39m is_categorical_dtype(data\u001b[38;5;241m.\u001b[39mdtype)\n\u001b[0;32m    183\u001b[0m     \u001b[38;5;28mself\u001b[39m\u001b[38;5;241m.\u001b[39m_is_string \u001b[38;5;241m=\u001b[39m \u001b[38;5;28misinstance\u001b[39m(data\u001b[38;5;241m.\u001b[39mdtype, StringDtype)\n",
      "File \u001b[1;32mc:\\Users\\HP\\anaconda3\\lib\\site-packages\\pandas\\core\\strings\\accessor.py:235\u001b[0m, in \u001b[0;36mStringMethods._validate\u001b[1;34m(data)\u001b[0m\n\u001b[0;32m    232\u001b[0m inferred_dtype \u001b[38;5;241m=\u001b[39m lib\u001b[38;5;241m.\u001b[39minfer_dtype(values, skipna\u001b[38;5;241m=\u001b[39m\u001b[38;5;28;01mTrue\u001b[39;00m)\n\u001b[0;32m    234\u001b[0m \u001b[38;5;28;01mif\u001b[39;00m inferred_dtype \u001b[38;5;129;01mnot\u001b[39;00m \u001b[38;5;129;01min\u001b[39;00m allowed_types:\n\u001b[1;32m--> 235\u001b[0m     \u001b[38;5;28;01mraise\u001b[39;00m \u001b[38;5;167;01mAttributeError\u001b[39;00m(\u001b[38;5;124m\"\u001b[39m\u001b[38;5;124mCan only use .str accessor with string values!\u001b[39m\u001b[38;5;124m\"\u001b[39m)\n\u001b[0;32m    236\u001b[0m \u001b[38;5;28;01mreturn\u001b[39;00m inferred_dtype\n",
      "\u001b[1;31mAttributeError\u001b[0m: Can only use .str accessor with string values!"
     ]
    }
   ],
   "source": [
    "df[\"Value\"] = df[\"Value\"].str.replace(r\"(K|M\",\"000\")\n",
    "\n",
    "print(df[\"Value\"])"
   ]
  },
  {
   "cell_type": "markdown",
   "metadata": {},
   "source": [
    "pattern = r\"([A-Za-z ]+)\\n(\\d{4} ~ \\d{4})\"\n",
    "\n",
    "df[\"Team & Contract\"] = df[\"Team & Contract\"].astype(str)\n",
    "\n",
    "extrea = df[\"Team & Contract\"].str.extract(pattern, flags=re.UNICODE)\n",
    "\n",
    "\n",
    "\n",
    "\n",
    "print(extrea)"
   ]
  },
  {
   "cell_type": "markdown",
   "metadata": {},
   "source": [
    "pattern = r\"([A-Za-z ]+)\\n(\\d{4} ~ \\d{4})\"\n",
    "x = df[\"Team & Contract\"].str\n",
    "\n",
    "clean_TC = re.search(pattern, x)\n",
    "\n",
    "\n",
    "df[\"Height\"] "
   ]
  },
  {
   "cell_type": "markdown",
   "metadata": {},
   "source": [
    "import pandas as pd\n",
    "from tabulate import tabulate\n",
    "\n",
    "# Sample DataFrame\n",
    "df = pd.read_csv(\"fifa21_raw_data.csv\")\n",
    "\n",
    "#print(df.head())\n",
    "print(df.loc[1].tolist())\n",
    "\n",
    "# Print table\n",
    "\n",
    "#print(tabulate(df.head(), headers='keys', tablefmt='pretty'))"
   ]
  },
  {
   "cell_type": "code",
   "execution_count": 123,
   "metadata": {},
   "outputs": [
    {
     "name": "stdout",
     "output_type": "stream",
     "text": [
      "+-------+--------------------------------------------------+----------------+--------------------------------------------------------+-------------+-----------+----------------+-----+------+-----+-------------------------------------+--------+--------+--------+-------+-----+-----+--------+--------------+---------------+-------+------+----------------+-----------+----------+-----------+------------------+---------------+---------+-------+-----------+-------+-------------+--------------+--------------+----------+--------------+--------------+---------+-----------+---------+-------+------------+---------+---------+----------+------------+-----------+------------+---------------+-------------+--------+-----------+-----------+-----------+---------+-----------------+----------------+-------------+-----------+-------------+------------+----------------+-------------+-------------+------------+-----+----+--------+--------+-----+-----+-----+-----+-----+-----+-----+------+\n",
      "|       |                     photoUrl                     |    LongName    |                       playerUrl                        | Nationality | Positions |      Name      | Age | ↓OVA | POT |           Team & Contract           |   ID   | Height | Weight | foot  | BOV | BP  | Growth |    Joined    | Loan Date End | Value | Wage | Release Clause | Attacking | Crossing | Finishing | Heading Accuracy | Short Passing | Volleys | Skill | Dribbling | Curve | FK Accuracy | Long Passing | Ball Control | Movement | Acceleration | Sprint Speed | Agility | Reactions | Balance | Power | Shot Power | Jumping | Stamina | Strength | Long Shots | Mentality | Aggression | Interceptions | Positioning | Vision | Penalties | Composure | Defending | Marking | Standing Tackle | Sliding Tackle | Goalkeeping | GK Diving | GK Handling | GK Kicking | GK Positioning | GK Reflexes | Total Stats | Base Stats | W/F | SM |  A/W   |  D/W   | IR  | PAC | SHO | PAS | DRI | DEF | PHY | Hits |\n",
      "+-------+--------------------------------------------------+----------------+--------------------------------------------------------+-------------+-----------+----------------+-----+------+-----+-------------------------------------+--------+--------+--------+-------+-----+-----+--------+--------------+---------------+-------+------+----------------+-----------+----------+-----------+------------------+---------------+---------+-------+-----------+-------+-------------+--------------+--------------+----------+--------------+--------------+---------+-----------+---------+-------+------------+---------+---------+----------+------------+-----------+------------+---------------+-------------+--------+-----------+-----------+-----------+---------+-----------------+----------------+-------------+-----------+-------------+------------+----------------+-------------+-------------+------------+-----+----+--------+--------+-----+-----+-----+-----+-----+-----+-----+------+\n",
      "| 18969 | https://cdn.sofifa.com/players/255/626/21_60.png |   Jiyu Zhong   |   http://sofifa.com/player/255626/jiyu-zhong/210005/   |  China PR   |    CM     |   Zhong Jiyu   | 23  |  47  | 55  |    Shijiazhuang Ever Bright F.C.    | 255626 |  5'7\"  | 137lbs | Right | 49  | CM  |   8    | Feb 9, 2018  |      nan      | €45K  | €1K  |      €79K      |    201    |    39    |    30     |        42        |      56       |   34    |  211  |    40     |  39   |     39      |      53      |      40      |   314    |      61      |      65      |   56    |    46     |   86    |  247  |     52     |   64    |   59    |    36    |     36     |    214    |     50     |      38       |     45      |   46   |    35     |    43     |    122    |   38    |       39        |       45       |     51      |     5     |     13      |     7      |       13       |     13      |    1360     |    277     | 2 ★ | 2★ | Medium |  Low   | 1 ★ | 63  | 37  | 48  | 44  | 39  | 46  |  4   |\n",
      "|       |                                                  |                |                                                        |             |           |                |     |      |     |             2018 ~ 2020             |        |        |        |       |     |     |        |              |               |       |      |                |           |          |           |                  |               |         |       |           |       |             |              |              |          |              |              |         |           |         |       |            |         |         |          |            |           |            |               |             |        |           |           |           |         |                 |                |             |           |             |            |                |             |             |            |     |    |        |        |     |     |     |     |     |     |     |      |\n",
      "| 18970 | https://cdn.sofifa.com/players/257/933/21_60.png | Wenzhuo Huang  | http://sofifa.com/player/257933/wenzhuo-huang/210005/  |  China PR   |    CM     | Huang Wenzhou  | 21  |  47  | 53  |          Shanghai SIPG FC           | 257933 |  5'9\"  | 150lbs | Right | 50  | CDM |   6    | Aug 1, 2020  |      nan      | €40K  | €1K  |      €72K      |    193    |    38    |    30     |        42        |      55       |   28    |  212  |    45     |  36   |     36      |      50      |      45      |   291    |      56      |      60      |   50    |    50     |   75    |  211  |     38     |   53    |   48    |    43    |     29     |    220    |     58     |      42       |     32      |   53   |    35     |    35     |    138    |   43    |       42        |       53       |     53      |     8     |      8      |     13     |       14       |     10      |    1318     |    277     | 2 ★ | 2★ |  Low   |  Low   | 1 ★ | 58  | 32  | 49  | 47  | 43  | 48  |  2   |\n",
      "|       |                                                  |                |                                                        |             |           |                |     |      |     |             2020 ~ 2022             |        |        |        |       |     |     |        |              |               |       |      |                |           |          |           |                  |               |         |       |           |       |             |              |              |          |              |              |         |           |         |       |            |         |         |          |            |           |            |               |             |        |           |           |           |         |                 |                |             |           |             |            |                |             |             |            |     |    |        |        |     |     |     |     |     |     |     |      |\n",
      "| 18971 | https://cdn.sofifa.com/players/257/936/21_60.png |    Yue Song    |    http://sofifa.com/player/257936/yue-song/210005/    |  China PR   |    CM     |    Song Yue    | 28  |  47  | 47  |           Tianjin TEDA FC           | 257936 |  6'1\"  | 174lbs | Right | 49  | RM  |   0    | Aug 1, 2020  |      nan      | €30K  | €2K  |      €47K      |    211    |    44    |    32     |        44        |      56       |   35    |  215  |    46     |  37   |     33      |      56      |      43      |   286    |      67      |      64      |   56    |    44     |   55    |  258  |     49     |   59    |   54    |    62    |     34     |    220    |     57     |      35       |     48      |   44   |    36     |    35     |    126    |   38    |       43        |       45       |     36      |     8     |      5      |     11     |       5        |      7      |    1352     |    296     | 2 ★ | 2★ |  Low   |  Low   | 1 ★ | 65  | 37  | 49  | 46  | 40  | 59  |  8   |\n",
      "|       |                                                  |                |                                                        |             |           |                |     |      |     |             2020 ~ 2022             |        |        |        |       |     |     |        |              |               |       |      |                |           |          |           |                  |               |         |       |           |       |             |              |              |          |              |              |         |           |         |       |            |         |         |          |            |           |            |               |             |        |           |           |           |         |                 |                |             |           |             |            |                |             |             |            |     |    |        |        |     |     |     |     |     |     |     |      |\n",
      "| 18972 | https://cdn.sofifa.com/players/257/689/21_60.png |  Huapeng Wang  |  http://sofifa.com/player/257689/huapeng-wang/210005/  |  China PR   |    CB     |  Wang Huapeng  | 20  |  47  | 53  |          Guangzhou R&F FC           | 257689 | 5'11\"  | 170lbs | Right | 49  | CB  |   6    | Aug 1, 2020  |      nan      | €35K  | €1K  |      €61K      |    134    |    22    |    18     |        46        |      24       |   24    |  123  |    23     |  27   |     21      |      24      |      28      |   268    |      61      |      57      |   48    |    41     |   61    |  233  |     32     |   68    |   60    |    58    |     15     |    176    |     40     |      44       |     24      |   33   |    35     |    37     |    148    |   41    |       52        |       55       |     58      |    10     |     15      |     12     |       8        |     13      |    1140     |    238     | 2 ★ | 2★ |  Low   |  Low   | 1 ★ | 59  | 22  | 25  | 30  | 47  | 55  |  2   |\n",
      "|       |                                                  |                |                                                        |             |           |                |     |      |     |             2020 ~ 2022             |        |        |        |       |     |     |        |              |               |       |      |                |           |          |           |                  |               |         |       |           |       |             |              |              |          |              |              |         |           |         |       |            |         |         |          |            |           |            |               |             |        |           |           |           |         |                 |                |             |           |             |            |                |             |             |            |     |    |        |        |     |     |     |     |     |     |     |      |\n",
      "| 18973 | https://cdn.sofifa.com/players/257/697/21_60.png |  Zitong Chen   |  http://sofifa.com/player/257697/zitong-chen/210005/   |  China PR   |    CM     |  Chen Zitong   | 23  |  47  | 51  |    Shijiazhuang Ever Bright F.C.    | 257697 |  6'1\"  | 176lbs | Right | 51  | CDM |   4    | Aug 1, 2020  |      nan      | €40K  | €1K  |      €65K      |    203    |    38    |    32     |        45        |      56       |   32    |  217  |    45     |  35   |     35      |      54      |      48      |   285    |      62      |      60      |   59    |    51     |   53    |  245  |     45     |   56    |   48    |    63    |     33     |    214    |     56     |      40       |     31      |   45   |    42     |    43     |    135    |   41    |       49        |       45       |     47      |    15     |      7      |     7      |       5        |     13      |    1346     |    294     | 2 ★ | 2★ |  Low   |  Low   | 1 ★ | 61  | 35  | 48  | 48  | 44  | 58  |  2   |\n",
      "|       |                                                  |                |                                                        |             |           |                |     |      |     |             2020 ~ 2023             |        |        |        |       |     |     |        |              |               |       |      |                |           |          |           |                  |               |         |       |           |       |             |              |              |          |              |              |         |           |         |       |            |         |         |          |            |           |            |               |             |        |           |           |           |         |                 |                |             |           |             |            |                |             |             |            |     |    |        |        |     |     |     |     |     |     |     |      |\n",
      "| 18974 | https://cdn.sofifa.com/players/257/710/21_60.png | Mengxuan Zhang | http://sofifa.com/player/257710/mengxuan-zhang/210005/ |  China PR   |    CB     | Zhang Mengxuan | 21  |  47  | 52  | Chongqing Dangdai Lifan FC SWM Team | 257710 | 5'10\"  | 154lbs | Right | 49  | CB  |   5    | Aug 1, 2020  |      nan      | €35K  | €1K  |      €57K      |    141    |    23    |    16     |        45        |      31       |   26    |  111  |    19     |  21   |     22      |      25      |      24      |   279    |      60      |      56      |   45    |    48     |   70    |  223  |     35     |   65    |   55    |    45    |     23     |    179    |     44     |      50       |     25      |   25   |    35     |    40     |    148    |   45    |       56        |       47       |     53      |    12     |     13      |     8      |       14       |      6      |    1134     |    232     | 2 ★ | 2★ |  Low   |  Low   | 1 ★ | 58  | 23  | 26  | 27  | 50  | 48  |  2   |\n",
      "|       |                                                  |                |                                                        |             |           |                |     |      |     |             2020 ~ 2020             |        |        |        |       |     |     |        |              |               |       |      |                |           |          |           |                  |               |         |       |           |       |             |              |              |          |              |              |         |           |         |       |            |         |         |          |            |           |            |               |             |        |           |           |           |         |                 |                |             |           |             |            |                |             |             |            |     |    |        |        |     |     |     |     |     |     |     |      |\n",
      "| 18975 | https://cdn.sofifa.com/players/258/736/21_60.png | Vani Da Silva  | http://sofifa.com/player/258736/vani-da-silva/210005/  |   England   |    ST     |  V. Da Silva   | 17  |  47  | 67  |           Oldham Athletic           | 258736 |  5'7\"  | 128lbs | Right | 51  | CAM |   20   | Aug 1, 2020  |      nan      | €60K  | €500 |     €165K      |    202    |    27    |    47     |        36        |      45       |   47    |  208  |    53     |  43   |     31      |      37      |      44      |   339    |      69      |      70      |   67    |    53     |   80    |  231  |     50     |   50    |   55    |    35    |     41     |    186    |     33     |      11       |     43      |   49   |    50     |    45     |    42     |   18    |       11        |       13       |     48      |    11     |     13      |     9      |       9        |      6      |    1256     |    265     | 2 ★ | 2★ | Medium | Medium | 1 ★ | 70  | 46  | 40  | 53  | 16  | 40  |  3   |\n",
      "|       |                                                  |                |                                                        |             |           |                |     |      |     |             2020 ~ 2021             |        |        |        |       |     |     |        |              |               |       |      |                |           |          |           |                  |               |         |       |           |       |             |              |              |          |              |              |         |           |         |       |            |         |         |          |            |           |            |               |             |        |           |           |           |         |                 |                |             |           |             |            |                |             |             |            |     |    |        |        |     |     |     |     |     |     |     |      |\n",
      "| 18976 | https://cdn.sofifa.com/players/247/223/21_60.png |     Ao Xia     |     http://sofifa.com/player/247223/ao-xia/210005/     |  China PR   |    CB     |     Xia Ao     | 21  |  47  | 55  |             Wuhan Zall              | 247223 | 5'10\"  | 146lbs | Right | 49  | CB  |   8    | Jul 13, 2018 |      nan      | €40K  | €1K  |      €70K      |    145    |    23    |    26     |        43        |      26       |   27    |  142  |    27     |  23   |     21      |      29      |      42      |   294    |      68      |      60      |   69    |    46     |   51    |  221  |     36     |   57    |   54    |    50    |     24     |    192    |     48     |      50       |     28      |   28   |    38     |    44     |    147    |   45    |       52        |       50       |     45      |     7     |      8      |     5      |       14       |     11      |    1186     |    255     | 2 ★ | 2★ | Medium | Medium | 1 ★ | 64  | 28  | 26  | 38  | 48  | 51  |  3   |\n",
      "|       |                                                  |                |                                                        |             |           |                |     |      |     |             2018 ~ 2022             |        |        |        |       |     |     |        |              |               |       |      |                |           |          |           |                  |               |         |       |           |       |             |              |              |          |              |              |         |           |         |       |            |         |         |          |            |           |            |               |             |        |           |           |           |         |                 |                |             |           |             |            |                |             |             |            |     |    |        |        |     |     |     |     |     |     |     |      |\n",
      "| 18977 | https://cdn.sofifa.com/players/258/760/21_60.png |   Ben Hough    |   http://sofifa.com/player/258760/ben-hough/210005/    |   England   |    CM     |    B. Hough    | 17  |  47  | 67  |           Oldham Athletic           | 258760 |  5'9\"  | 143lbs | Right | 51  | CAM |   20   | Aug 1, 2020  |      nan      | €60K  | €500 |     €165K      |    211    |    38    |    42     |        40        |      56       |   35    |  219  |    46     |  40   |     35      |      50      |      48      |   305    |      63      |      64      |   61    |    51     |   66    |  226  |     48     |   58    |   43    |    47    |     30     |    193    |     40     |      23       |     47      |   47   |    36     |    38     |    116    |   32    |       44        |       40       |     45      |    12     |     10      |     9      |       6        |      8      |    1315     |    281     | 2 ★ | 2★ | Medium | Medium | 1 ★ | 64  | 40  | 48  | 49  | 35  | 45  |  5   |\n",
      "|       |                                                  |                |                                                        |             |           |                |     |      |     |             2020 ~ 2021             |        |        |        |       |     |     |        |              |               |       |      |                |           |          |           |                  |               |         |       |           |       |             |              |              |          |              |              |         |           |         |       |            |         |         |          |            |           |            |               |             |        |           |           |           |         |                 |                |             |           |             |            |                |             |             |            |     |    |        |        |     |     |     |     |     |     |     |      |\n",
      "| 18978 | https://cdn.sofifa.com/players/255/958/21_60.png |  Mateo Flores  |  http://sofifa.com/player/255958/mateo-flores/210005/  |   Bolivia   |    CDM    |   M. Flores    | 19  |  47  | 63  |            Club Bolívar             | 255958 |  5'9\"  | 150lbs | Right | 48  | CDM |   16   | Jan 1, 2020  |      nan      | €60K  | €500 |     €167K      |    191    |    32    |    27     |        48        |      52       |   32    |  198  |    45     |  31   |     32      |      47      |      43      |   298    |      55      |      59      |   59    |    50     |   75    |  223  |     41     |   55    |   47    |    47    |     33     |    206    |     57     |      45       |     30      |   39   |    35     |    36     |    129    |   43    |       41        |       45       |     56      |    10     |      8      |     15     |       9        |     14      |    1301     |    273     | 3 ★ | 2★ | Medium | Medium | 1 ★ | 57  | 32  | 43  | 48  | 44  | 49  |  2   |\n",
      "|       |                                                  |                |                                                        |             |           |                |     |      |     |             2020 ~ 2024             |        |        |        |       |     |     |        |              |               |       |      |                |           |          |           |                  |               |         |       |           |       |             |              |              |          |              |              |         |           |         |       |            |         |         |          |            |           |            |               |             |        |           |           |           |         |                 |                |             |           |             |            |                |             |             |            |     |    |        |        |     |     |     |     |     |     |     |      |\n",
      "+-------+--------------------------------------------------+----------------+--------------------------------------------------------+-------------+-----------+----------------+-----+------+-----+-------------------------------------+--------+--------+--------+-------+-----+-----+--------+--------------+---------------+-------+------+----------------+-----------+----------+-----------+------------------+---------------+---------+-------+-----------+-------+-------------+--------------+--------------+----------+--------------+--------------+---------+-----------+---------+-------+------------+---------+---------+----------+------------+-----------+------------+---------------+-------------+--------+-----------+-----------+-----------+---------+-----------------+----------------+-------------+-----------+-------------+------------+----------------+-------------+-------------+------------+-----+----+--------+--------+-----+-----+-----+-----+-----+-----+-----+------+\n"
     ]
    },
    {
     "name": "stderr",
     "output_type": "stream",
     "text": [
      "C:\\Users\\HP\\AppData\\Local\\Temp\\ipykernel_20824\\1609146097.py:5: DtypeWarning: Columns (76) have mixed types. Specify dtype option on import or set low_memory=False.\n",
      "  df = pd.read_csv(\"fifa21_raw_data.csv\")\n"
     ]
    }
   ],
   "source": [
    "import pandas as pd\n",
    "from tabulate import tabulate\n",
    "\n",
    "# Sample DataFrame\n",
    "df = pd.read_csv(\"fifa21_raw_data.csv\")\n",
    "\n",
    "##print(df.head())\n",
    "\n",
    "\n",
    "\n",
    "# Print table\n",
    "print(tabulate(df.tail(10), headers='keys', tablefmt='pretty'))"
   ]
  },
  {
   "cell_type": "code",
   "execution_count": null,
   "metadata": {},
   "outputs": [],
   "source": [
    "í"
   ]
  }
 ],
 "metadata": {
  "kernelspec": {
   "display_name": "base",
   "language": "python",
   "name": "python3"
  },
  "language_info": {
   "codemirror_mode": {
    "name": "ipython",
    "version": 3
   },
   "file_extension": ".py",
   "mimetype": "text/x-python",
   "name": "python",
   "nbconvert_exporter": "python",
   "pygments_lexer": "ipython3",
   "version": "3.10.9"
  }
 },
 "nbformat": 4,
 "nbformat_minor": 2
}
